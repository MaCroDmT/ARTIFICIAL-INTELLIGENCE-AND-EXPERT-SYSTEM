{
  "cells": [
    {
      "cell_type": "markdown",
      "metadata": {
        "id": "view-in-github",
        "colab_type": "text"
      },
      "source": [
        "<a href=\"https://colab.research.google.com/github/MaCroDmT/ARTIFICIAL-INTELLIGENCE-AND-EXPERT-SYSTEM/blob/main/I_21_45640_3_Week_07.ipynb\" target=\"_parent\"><img src=\"https://colab.research.google.com/assets/colab-badge.svg\" alt=\"Open In Colab\"/></a>"
      ]
    },
    {
      "cell_type": "markdown",
      "metadata": {
        "id": "SaqziTVFaf7s"
      },
      "source": [
        "# Generate an intial state of NPuzzle"
      ]
    },
    {
      "cell_type": "code",
      "source": [
        "import numpy as np\n",
        "import random\n",
        "import math"
      ],
      "metadata": {
        "id": "Sy3Dl1NXLEPc"
      },
      "execution_count": null,
      "outputs": []
    },
    {
      "cell_type": "code",
      "execution_count": null,
      "metadata": {
        "scrolled": true,
        "id": "iTX34gUNaf7t"
      },
      "outputs": [],
      "source": [
        "def get_state():\n",
        "    N = random.choice([3,4,5]) #eta default value\n",
        "    state = [item for item in range(N*N)]# [0,1,2,...,15]\n",
        "    random.shuffle(state)\n",
        "    tmp = np.array(state)\n",
        "    print(tmp.reshape(N,N))\n",
        "    return state"
      ]
    },
    {
      "cell_type": "code",
      "source": [
        "def get_dim(s):\n",
        "  return int(math.sqrt(len(s)))"
      ],
      "metadata": {
        "id": "UePds4atNrz_"
      },
      "execution_count": null,
      "outputs": []
    },
    {
      "cell_type": "code",
      "execution_count": null,
      "metadata": {
        "colab": {
          "base_uri": "https://localhost:8080/"
        },
        "id": "QKTU1E1Iaf7v",
        "outputId": "af46299d-64ba-476d-93cb-708af386e3ca"
      },
      "outputs": [
        {
          "output_type": "stream",
          "name": "stdout",
          "text": [
            "[[3 7 1]\n",
            " [5 0 8]\n",
            " [2 6 4]]\n",
            "[3, 7, 1, 5, 0, 8, 2, 6, 4]\n",
            "Dimension: 3\n"
          ]
        }
      ],
      "source": [
        "s = get_state()\n",
        "print(s)\n",
        "print('Dimension:', get_dim(s))"
      ]
    },
    {
      "cell_type": "markdown",
      "metadata": {
        "id": "3hD4ieUaaf7x"
      },
      "source": [
        "# Calculate inversion"
      ]
    },
    {
      "cell_type": "markdown",
      "metadata": {
        "id": "CkoMv0C8af7y"
      },
      "source": [
        "Inversion is a pair of tiles that are in the reverse order from where they ought to be. In our case, the bigger number is in front of the smaller one.\n",
        "\n"
      ]
    },
    {
      "cell_type": "markdown",
      "metadata": {
        "id": "JcfDN45Caf7y"
      },
      "source": [
        "![Capture.JPG](attachment:Capture.JPG)"
      ]
    },
    {
      "cell_type": "code",
      "execution_count": null,
      "metadata": {
        "id": "-W9FOmneaf7z"
      },
      "outputs": [],
      "source": [
        "def get_invCount(s):\n",
        "    count = 0\n",
        "    for i in range(len(s)):\n",
        "        for j in range(i+1,len(s)):\n",
        "            if s[j]!=0 and s[i] > s[j]: count += 1 #eta buje korte hobe sir will ask question\n",
        "    return count"
      ]
    },
    {
      "cell_type": "code",
      "execution_count": null,
      "metadata": {
        "colab": {
          "base_uri": "https://localhost:8080/"
        },
        "id": "sWAiuZfjaf71",
        "outputId": "0664d311-3975-4707-d471-f7f59c7290ff"
      },
      "outputs": [
        {
          "output_type": "stream",
          "name": "stdout",
          "text": [
            "[[15 10 16  8 14]\n",
            " [ 9  3 11 20 24]\n",
            " [ 6 12 18  5  7]\n",
            " [ 1 13 21 22  2]\n",
            " [23 17 19  0  4]]\n",
            "[15, 10, 16, 8, 14, 9, 3, 11, 20, 24, 6, 12, 18, 5, 7, 1, 13, 21, 22, 2, 23, 17, 19, 0, 4]\n",
            "131\n"
          ]
        }
      ],
      "source": [
        "s = get_state()\n",
        "print(s)\n",
        "print(get_invCount(s))"
      ]
    },
    {
      "cell_type": "code",
      "source": [
        "s.index(0)"
      ],
      "metadata": {
        "colab": {
          "base_uri": "https://localhost:8080/"
        },
        "id": "znluowb7Jot_",
        "outputId": "f312fc9e-9ca8-4e6a-a60a-753745bec928"
      },
      "execution_count": null,
      "outputs": [
        {
          "output_type": "execute_result",
          "data": {
            "text/plain": [
              "23"
            ]
          },
          "metadata": {},
          "execution_count": 15
        }
      ]
    },
    {
      "cell_type": "markdown",
      "source": [
        "# **Find blank row**"
      ],
      "metadata": {
        "id": "EDn9_ODN1RFU"
      }
    },
    {
      "cell_type": "code",
      "execution_count": null,
      "metadata": {
        "id": "R7-N-A6Oaf76",
        "colab": {
          "base_uri": "https://localhost:8080/"
        },
        "outputId": "f95d1e35-2681-4d5c-8b31-b4248472573b"
      },
      "outputs": [
        {
          "output_type": "stream",
          "name": "stdout",
          "text": [
            "Blank tile is in row 6\n"
          ]
        }
      ],
      "source": [
        "# find row position of the blank tile\n",
        "def get_blank_row(s):\n",
        "    index = s.index(0)\n",
        "    return index\n",
        "\n",
        "puzzle_state = [6, 5, 1, 4, 7, 3, 0, 8, 2]\n",
        "blank_row_index = get_blank_row(puzzle_state)\n",
        "if blank_row_index is not None:\n",
        "    print(f\"Blank tile is in row {blank_row_index}\")\n",
        "else:\n",
        "    print(\"Blank tile not found in the puzzle state.\")\n",
        "\n",
        "\n",
        "\n",
        "\n"
      ]
    },
    {
      "cell_type": "markdown",
      "metadata": {
        "id": "8bTLG_ZQaf73"
      },
      "source": [
        "# Solvability Rules"
      ]
    },
    {
      "cell_type": "code",
      "execution_count": null,
      "metadata": {
        "id": "0ciw2n-uaf77",
        "colab": {
          "base_uri": "https://localhost:8080/"
        },
        "outputId": "0f265201-4f6c-4a42-a093-c73d984e14ec"
      },
      "outputs": [
        {
          "output_type": "stream",
          "name": "stdout",
          "text": [
            "False\n"
          ]
        }
      ],
      "source": [
        "# apply the rules to decide solvability\n",
        "#  N, I, R\n",
        "# define a method to return solvability (input S)\n",
        "# return True if solvable or False if not\n",
        "def isSolvable(state):\n",
        "    N = get_dim(state)\n",
        "    I = get_invCount(state)\n",
        "    R = get_blank_row(state)\n",
        "\n",
        "    if N % 2 == 1:\n",
        "        return I % 2 == 0\n",
        "    else:\n",
        "        if R % 2 == 0:\n",
        "            return I % 2 == 1\n",
        "        else:\n",
        "            return I % 2 == 0\n",
        "\n",
        "puzzle_state = [6, 5, 1, 4, 7, 3, 0, 8, 2]\n",
        "print(isSolvable(puzzle_state))\n",
        "\n",
        "\n",
        "\n"
      ]
    },
    {
      "cell_type": "code",
      "source": [
        "s = get_state()\n",
        "isSolvable(s)\n"
      ],
      "metadata": {
        "id": "u2TGpQfNhnP2",
        "colab": {
          "base_uri": "https://localhost:8080/"
        },
        "outputId": "7f7902d8-8e50-44f5-d531-8a9483326378"
      },
      "execution_count": null,
      "outputs": [
        {
          "output_type": "stream",
          "name": "stdout",
          "text": [
            "[[8 2 0]\n",
            " [6 5 4]\n",
            " [7 3 1]]\n"
          ]
        },
        {
          "output_type": "execute_result",
          "data": {
            "text/plain": [
              "True"
            ]
          },
          "metadata": {},
          "execution_count": 19
        }
      ]
    },
    {
      "cell_type": "code",
      "source": [
        "s = get_state()\n",
        "while(isSolvable(s)==False):\n",
        "  s = get_state()\n",
        "print(s)\n"
      ],
      "metadata": {
        "id": "tWVgVv0oTX2m",
        "colab": {
          "base_uri": "https://localhost:8080/"
        },
        "outputId": "2b108d37-9e51-42f1-87f7-25b6baafe069"
      },
      "execution_count": null,
      "outputs": [
        {
          "output_type": "stream",
          "name": "stdout",
          "text": [
            "[[ 2  3  8  5]\n",
            " [11 13 10  9]\n",
            " [14 12  0  7]\n",
            " [ 4 15  6  1]]\n",
            "[2, 3, 8, 5, 11, 13, 10, 9, 14, 12, 0, 7, 4, 15, 6, 1]\n"
          ]
        }
      ]
    }
  ],
  "metadata": {
    "kernelspec": {
      "display_name": "Python 3",
      "language": "python",
      "name": "python3"
    },
    "language_info": {
      "codemirror_mode": {
        "name": "ipython",
        "version": 3
      },
      "file_extension": ".py",
      "mimetype": "text/x-python",
      "name": "python",
      "nbconvert_exporter": "python",
      "pygments_lexer": "ipython3",
      "version": "3.8.5"
    },
    "colab": {
      "provenance": [],
      "include_colab_link": true
    }
  },
  "nbformat": 4,
  "nbformat_minor": 0
}