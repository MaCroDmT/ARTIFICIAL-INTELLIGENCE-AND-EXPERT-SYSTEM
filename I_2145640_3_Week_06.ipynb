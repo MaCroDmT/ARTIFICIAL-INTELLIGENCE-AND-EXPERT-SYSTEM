{
  "cells": [
    {
      "cell_type": "markdown",
      "metadata": {
        "id": "view-in-github",
        "colab_type": "text"
      },
      "source": [
        "<a href=\"https://colab.research.google.com/github/MaCroDmT/ARTIFICIAL-INTELLIGENCE-AND-EXPERT-SYSTEM/blob/main/I_2145640_3_Week_06.ipynb\" target=\"_parent\"><img src=\"https://colab.research.google.com/assets/colab-badge.svg\" alt=\"Open In Colab\"/></a>"
      ]
    },
    {
      "cell_type": "markdown",
      "metadata": {
        "id": "i9cjHABdo20A"
      },
      "source": [
        "# N Queen Attack Detection"
      ]
    },
    {
      "cell_type": "code",
      "source": [
        "\n",
        "def drawBoard(P):\n",
        "  N = len(P)\n",
        "  for i in range(1,N+1):\n",
        "    print(\"|\", end=\"\")\n",
        "    for j in range(1,N+1):\n",
        "      if (i,j) in P:\n",
        "        ind = str(1+ P.index((i,j)))\n",
        "        print(\" \"+ind+\" |\", end= \"\")\n",
        "      else:\n",
        "        print(\" * |\", end= \"\")\n",
        "    print()"
      ],
      "metadata": {
        "id": "i8_FUZYg17Dy"
      },
      "execution_count": null,
      "outputs": []
    },
    {
      "cell_type": "code",
      "source": [
        "import math\n",
        "import random\n",
        "def generate_positions(N):\n",
        "    CL = list(range(0,N*N));\n",
        "    P = []\n",
        "    for i in range(N):\n",
        "        p = random.choice(CL)\n",
        "        CL.remove(p)\n",
        "        r = math.ceil((p+1)/N)\n",
        "        c = 1+p%N\n",
        "        P.append((r,c))\n",
        "        print('Q{}: {},{}'.format(i+1,r,c)) #Eita row col vabe jacche\n",
        "    return P\n",
        "\n",
        "generate_positions(4)"
      ],
      "metadata": {
        "colab": {
          "base_uri": "https://localhost:8080/"
        },
        "id": "4nAKG_sr78Va",
        "outputId": "f741afc7-e196-4e37-b5ff-5788e04b3aa6"
      },
      "execution_count": null,
      "outputs": [
        {
          "output_type": "stream",
          "name": "stdout",
          "text": [
            "Q1: 2,2\n",
            "Q2: 3,1\n",
            "Q3: 2,3\n",
            "Q4: 4,1\n"
          ]
        },
        {
          "output_type": "execute_result",
          "data": {
            "text/plain": [
              "[(2, 2), (3, 1), (2, 3), (4, 1)]"
            ]
          },
          "metadata": {},
          "execution_count": 4
        }
      ]
    },
    {
      "cell_type": "code",
      "source": [
        "generate_positions(4)"
      ],
      "metadata": {
        "colab": {
          "base_uri": "https://localhost:8080/"
        },
        "id": "q6cA-IajPZPP",
        "outputId": "c7a145c3-31de-44c2-f624-1b849a3ebd74"
      },
      "execution_count": null,
      "outputs": [
        {
          "output_type": "stream",
          "name": "stdout",
          "text": [
            "Q1: 2,2\n",
            "Q2: 2,3\n",
            "Q3: 4,4\n",
            "Q4: 3,1\n"
          ]
        },
        {
          "output_type": "execute_result",
          "data": {
            "text/plain": [
              "[(2, 2), (2, 3), (4, 4), (3, 1)]"
            ]
          },
          "metadata": {},
          "execution_count": 5
        }
      ]
    },
    {
      "cell_type": "code",
      "execution_count": null,
      "metadata": {
        "colab": {
          "base_uri": "https://localhost:8080/"
        },
        "id": "2dvDEqqTo20L",
        "outputId": "db6dfa28-1b16-469f-d77c-c2ddcf63cc86"
      },
      "outputs": [
        {
          "output_type": "stream",
          "name": "stdout",
          "text": [
            "Q1: 4,4\n",
            "Q2: 4,3\n",
            "Q3: 1,1\n",
            "Q4: 2,4\n",
            "| 3 | * | * | * |\n",
            "| * | * | * | 4 |\n",
            "| * | * | * | * |\n",
            "| * | * | 2 | 1 |\n"
          ]
        }
      ],
      "source": [
        "N = 4\n",
        "positions = generate_positions(N)\n",
        "drawBoard(positions)"
      ]
    },
    {
      "cell_type": "code",
      "execution_count": null,
      "metadata": {
        "colab": {
          "base_uri": "https://localhost:8080/"
        },
        "id": "IEMPCDhEo20N",
        "outputId": "87ed85e4-3416-4c89-9d14-9cf973d56d2d"
      },
      "outputs": [
        {
          "output_type": "stream",
          "name": "stdout",
          "text": [
            "row attack: (4, 4), (4, 3)\n"
          ]
        },
        {
          "output_type": "execute_result",
          "data": {
            "text/plain": [
              "1"
            ]
          },
          "metadata": {},
          "execution_count": 7
        }
      ],
      "source": [
        "# row attack\n",
        "def rowAttacK(P):\n",
        "  N = len(P)\n",
        "  count = 0\n",
        "  for i in range(N):\n",
        "    for j in range(i+1,N):\n",
        "      if P[i][0] == P[j][0]:  #jodi same 1st positiion ta same value hoy then row attack\n",
        "        print('row attack:', end = \" \" )\n",
        "        print(P[i], end = \", \")\n",
        "        print(P[j])\n",
        "        count = count + 1\n",
        "  return count\n",
        "\n",
        "rowAttacK(positions)"
      ]
    },
    {
      "cell_type": "code",
      "source": [
        "abs(-2)"
      ],
      "metadata": {
        "colab": {
          "base_uri": "https://localhost:8080/"
        },
        "id": "-jDyBTh8RFsX",
        "outputId": "630fbbf6-a356-4171-f1ea-fc7d6b6957b4"
      },
      "execution_count": null,
      "outputs": [
        {
          "output_type": "execute_result",
          "data": {
            "text/plain": [
              "2"
            ]
          },
          "metadata": {},
          "execution_count": 6
        }
      ]
    },
    {
      "cell_type": "code",
      "execution_count": null,
      "metadata": {
        "id": "KLBRaUNOo20O",
        "colab": {
          "base_uri": "https://localhost:8080/"
        },
        "outputId": "0faf3980-41a3-4e81-db16-47e00337d876"
      },
      "outputs": [
        {
          "output_type": "stream",
          "name": "stdout",
          "text": [
            "coloumn attack: (4, 4), (2, 4)\n"
          ]
        },
        {
          "output_type": "execute_result",
          "data": {
            "text/plain": [
              "1"
            ]
          },
          "metadata": {},
          "execution_count": 8
        }
      ],
      "source": [
        "#column attack\n",
        "def coloumnAttacK(P):\n",
        "  N = len(P)\n",
        "  count = 0\n",
        "  for i in range(N):\n",
        "    for j in range(i+1,N):\n",
        "      if P[i][1] == P[j][1]:  #jodi 2nd value ta mane coloum er value ta same same hoy then coloum attcak ache\n",
        "        print('coloumn attack:', end = \" \" )\n",
        "        print(P[i], end = \", \")\n",
        "        print(P[j])\n",
        "        count = count + 1\n",
        "  return count\n",
        "\n",
        "coloumnAttacK(positions)\n"
      ]
    },
    {
      "cell_type": "code",
      "execution_count": null,
      "metadata": {
        "id": "Bmw-Teqio20P",
        "colab": {
          "base_uri": "https://localhost:8080/"
        },
        "outputId": "f5fbef67-0796-42a8-bc5d-55694bcc80e6"
      },
      "outputs": [
        {
          "output_type": "stream",
          "name": "stdout",
          "text": [
            "diagonal attack: (4, 4), (1, 1)\n"
          ]
        },
        {
          "output_type": "execute_result",
          "data": {
            "text/plain": [
              "1"
            ]
          },
          "metadata": {},
          "execution_count": 9
        }
      ],
      "source": [
        "# diagonal atack\n",
        "def diagonalAttack(P):\n",
        "    N = len(P)\n",
        "    count = 0\n",
        "    for i in range(N):\n",
        "        for j in range(i + 1, N):\n",
        "            if abs(P[i][0] - P[j][0]) == abs(P[i][1] - P[j][1]): #jodi 2ta position(mane 1st box er r-c and second box r-c)  korar por 2tar ei value shoman shoman hoy then diagonal attack\n",
        "                print('diagonal attack:', end=\" \")\n",
        "                print(P[i], end=\", \")\n",
        "                print(P[j])\n",
        "                count += 1\n",
        "    return count\n",
        "\n",
        "diagonalAttack(positions)\n"
      ]
    },
    {
      "cell_type": "code",
      "execution_count": null,
      "metadata": {
        "id": "1hQCBWSoo20Q",
        "colab": {
          "base_uri": "https://localhost:8080/"
        },
        "outputId": "f907356a-6b1b-4f01-8a0f-99146927f59e"
      },
      "outputs": [
        {
          "output_type": "stream",
          "name": "stdout",
          "text": [
            "row attack: (4, 4), (4, 3)\n",
            "coloumn attack: (4, 4), (2, 4)\n",
            "diagonal attack: (4, 4), (1, 1)\n",
            "Invalid state\n"
          ]
        }
      ],
      "source": [
        "# implement a method to print a state is valid or not\n",
        "\n",
        "def isValid(P):\n",
        "    # Check for row, column, and diagonal attacks\n",
        "    if not rowAttacK(P) or not coloumnAttacK(P) or not diagonalAttack(P):\n",
        "\n",
        "        return True\n",
        "    return False  #false invalid dekhabe r ture valid dekhabe\n",
        "\n",
        "print(\"Valid state:\" if isValid(positions) else \"Invalid state\")\n",
        "\n"
      ]
    },
    {
      "cell_type": "code",
      "source": [
        "# call isValid untill you get valid solution\n",
        "def rowAttack(P):\n",
        "    N = len(P)\n",
        "    for i in range(N):\n",
        "        for j in range(i + 1, N):\n",
        "            if P[i][0] == P[j][0]:\n",
        "                return True\n",
        "    return False\n",
        "\n",
        "def columnAttack(P):\n",
        "    N = len(P)\n",
        "    for i in range(N):\n",
        "        for j in range(i + 1, N):\n",
        "            if P[i][1] == P[j][1]:\n",
        "                return True\n",
        "    return False\n",
        "\n",
        "def diagonalAttack(P):\n",
        "    N = len(P)\n",
        "    for i in range(N):\n",
        "        for j in range(i + 1, N):\n",
        "            if abs(P[i][0] - P[j][0]) == abs(P[i][1] - P[j][1]):\n",
        "                return True\n",
        "    return False\n",
        "\n",
        "def isValid(P):\n",
        "    if rowAttack(P) or columnAttack(P) or diagonalAttack(P): #otay not diye korsi r etay not chara tai false true\n",
        "        return False\n",
        "    return True\n",
        "\n",
        "def generate_valid_solution(n):\n",
        "    import random\n",
        "    while True:\n",
        "        positions = [(i, random.randint(0, n-1)) for i in range(n)]\n",
        "        if isValid(positions):\n",
        "            return positions\n",
        "\n",
        "\n",
        "N = 4\n",
        "valid_solution = generate_valid_solution(N)\n",
        "print(\"Valid solution found:\", valid_solution)\n",
        "\n"
      ],
      "metadata": {
        "id": "Mzr-Rt9kR9Xn",
        "colab": {
          "base_uri": "https://localhost:8080/"
        },
        "outputId": "494e46ed-27b5-4526-d432-bd372b60168a"
      },
      "execution_count": null,
      "outputs": [
        {
          "output_type": "stream",
          "name": "stdout",
          "text": [
            "Valid solution found: [(0, 1), (1, 3), (2, 0), (3, 2)]\n"
          ]
        }
      ]
    }
  ],
  "metadata": {
    "kernelspec": {
      "display_name": "Python 3",
      "language": "python",
      "name": "python3"
    },
    "language_info": {
      "codemirror_mode": {
        "name": "ipython",
        "version": 3
      },
      "file_extension": ".py",
      "mimetype": "text/x-python",
      "name": "python",
      "nbconvert_exporter": "python",
      "pygments_lexer": "ipython3",
      "version": "3.8.5"
    },
    "colab": {
      "provenance": [],
      "include_colab_link": true
    }
  },
  "nbformat": 4,
  "nbformat_minor": 0
}